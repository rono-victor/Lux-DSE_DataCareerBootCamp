{
 "cells": [
  {
   "cell_type": "code",
   "execution_count": 8,
   "metadata": {},
   "outputs": [],
   "source": [
    "import pandas as pd\n",
    "import matplotlib.pyplot as plt\n",
    "import world_bank_data as wb\n",
    "import wbdata\n"
   ]
  },
  {
   "attachments": {},
   "cell_type": "markdown",
   "metadata": {},
   "source": [
    "Setting up the countries I want"
   ]
  },
  {
   "cell_type": "code",
   "execution_count": 36,
   "metadata": {},
   "outputs": [
    {
     "data": {
      "text/plain": [
       "['KEN', 'ZAF', 'EGY']"
      ]
     },
     "execution_count": 36,
     "metadata": {},
     "output_type": "execute_result"
    }
   ],
   "source": [
    "countries = [\"KEN\", \"ZAF\",\"EGY\"]\n",
    "countries"
   ]
  },
  {
   "attachments": {},
   "cell_type": "markdown",
   "metadata": {},
   "source": [
    "NY.GNP.PCAP.CD\" refers to \"GNI per capita, Atlas method (current US$)\". GNI stands for Gross National Income, which is the sum of all income earned by a country's residents, including any income earned abroad. The Atlas method is used to convert GNI into a common currency, the US dollar, using purchasing power parity (PPP) to account for differences in the cost of living between countries.\n",
    "In essence, this indicator provides a measure of the average income earned per person in a country, based on their country's economic output and adjusted for differences in the cost of living. It is a commonly used metric for comparing living standards between countries and tracking economic growth over time."
   ]
  },
  {
   "cell_type": "code",
   "execution_count": 37,
   "metadata": {},
   "outputs": [
    {
     "data": {
      "text/plain": [
       "{'NY.GNP.PCAP.CD': 'GNI per Capita'}"
      ]
     },
     "execution_count": 37,
     "metadata": {},
     "output_type": "execute_result"
    }
   ],
   "source": [
    "#Set up the indicator  I want (you can buildup the dictionary if you want more than one)\n",
    "indicators  =  {'NY.GNP.PCAP.CD':'GNI per Capita'}\n",
    "indicators"
   ]
  },
  {
   "cell_type": "code",
   "execution_count": 38,
   "metadata": {},
   "outputs": [
    {
     "data": {
      "text/html": [
       "<div>\n",
       "<style scoped>\n",
       "    .dataframe tbody tr th:only-of-type {\n",
       "        vertical-align: middle;\n",
       "    }\n",
       "\n",
       "    .dataframe tbody tr th {\n",
       "        vertical-align: top;\n",
       "    }\n",
       "\n",
       "    .dataframe thead th {\n",
       "        text-align: right;\n",
       "    }\n",
       "</style>\n",
       "<table border=\"1\" class=\"dataframe\">\n",
       "  <thead>\n",
       "    <tr style=\"text-align: right;\">\n",
       "      <th></th>\n",
       "      <th></th>\n",
       "      <th>GNI per Capita</th>\n",
       "    </tr>\n",
       "    <tr>\n",
       "      <th>country</th>\n",
       "      <th>date</th>\n",
       "      <th></th>\n",
       "    </tr>\n",
       "  </thead>\n",
       "  <tbody>\n",
       "    <tr>\n",
       "      <th rowspan=\"5\" valign=\"top\">Egypt, Arab Rep.</th>\n",
       "      <th>2021</th>\n",
       "      <td>3350.0</td>\n",
       "    </tr>\n",
       "    <tr>\n",
       "      <th>2020</th>\n",
       "      <td>2860.0</td>\n",
       "    </tr>\n",
       "    <tr>\n",
       "      <th>2019</th>\n",
       "      <td>2550.0</td>\n",
       "    </tr>\n",
       "    <tr>\n",
       "      <th>2018</th>\n",
       "      <td>2650.0</td>\n",
       "    </tr>\n",
       "    <tr>\n",
       "      <th>2017</th>\n",
       "      <td>2870.0</td>\n",
       "    </tr>\n",
       "    <tr>\n",
       "      <th>...</th>\n",
       "      <th>...</th>\n",
       "      <td>...</td>\n",
       "    </tr>\n",
       "    <tr>\n",
       "      <th rowspan=\"5\" valign=\"top\">South Africa</th>\n",
       "      <th>1964</th>\n",
       "      <td>620.0</td>\n",
       "    </tr>\n",
       "    <tr>\n",
       "      <th>1963</th>\n",
       "      <td>580.0</td>\n",
       "    </tr>\n",
       "    <tr>\n",
       "      <th>1962</th>\n",
       "      <td>550.0</td>\n",
       "    </tr>\n",
       "    <tr>\n",
       "      <th>1961</th>\n",
       "      <td>NaN</td>\n",
       "    </tr>\n",
       "    <tr>\n",
       "      <th>1960</th>\n",
       "      <td>NaN</td>\n",
       "    </tr>\n",
       "  </tbody>\n",
       "</table>\n",
       "<p>186 rows × 1 columns</p>\n",
       "</div>"
      ],
      "text/plain": [
       "                       GNI per Capita\n",
       "country          date                \n",
       "Egypt, Arab Rep. 2021          3350.0\n",
       "                 2020          2860.0\n",
       "                 2019          2550.0\n",
       "                 2018          2650.0\n",
       "                 2017          2870.0\n",
       "...                               ...\n",
       "South Africa     1964           620.0\n",
       "                 1963           580.0\n",
       "                 1962           550.0\n",
       "                 1961             NaN\n",
       "                 1960             NaN\n",
       "\n",
       "[186 rows x 1 columns]"
      ]
     },
     "execution_count": 38,
     "metadata": {},
     "output_type": "execute_result"
    }
   ],
   "source": [
    "#Grab indicators above for countries specified and load data into a dataframe\n",
    "df = wbdata.get_dataframe(indicators, country=countries, convert_date=False)\n",
    "df"
   ]
  },
  {
   "attachments": {},
   "cell_type": "markdown",
   "metadata": {},
   "source": [
    "df is \"pivoted\", pandas' unstack function helps reshape it into something plottable"
   ]
  },
  {
   "cell_type": "code",
   "execution_count": 41,
   "metadata": {},
   "outputs": [
    {
     "data": {
      "text/html": [
       "<div>\n",
       "<style scoped>\n",
       "    .dataframe tbody tr th:only-of-type {\n",
       "        vertical-align: middle;\n",
       "    }\n",
       "\n",
       "    .dataframe tbody tr th {\n",
       "        vertical-align: top;\n",
       "    }\n",
       "\n",
       "    .dataframe thead tr th {\n",
       "        text-align: left;\n",
       "    }\n",
       "\n",
       "    .dataframe thead tr:last-of-type th {\n",
       "        text-align: right;\n",
       "    }\n",
       "</style>\n",
       "<table border=\"1\" class=\"dataframe\">\n",
       "  <thead>\n",
       "    <tr>\n",
       "      <th></th>\n",
       "      <th colspan=\"3\" halign=\"left\">GNI per Capita</th>\n",
       "    </tr>\n",
       "    <tr>\n",
       "      <th>country</th>\n",
       "      <th>Egypt, Arab Rep.</th>\n",
       "      <th>Kenya</th>\n",
       "      <th>South Africa</th>\n",
       "    </tr>\n",
       "    <tr>\n",
       "      <th>date</th>\n",
       "      <th></th>\n",
       "      <th></th>\n",
       "      <th></th>\n",
       "    </tr>\n",
       "  </thead>\n",
       "  <tbody>\n",
       "    <tr>\n",
       "      <th>1960</th>\n",
       "      <td>NaN</td>\n",
       "      <td>NaN</td>\n",
       "      <td>NaN</td>\n",
       "    </tr>\n",
       "    <tr>\n",
       "      <th>1961</th>\n",
       "      <td>NaN</td>\n",
       "      <td>NaN</td>\n",
       "      <td>NaN</td>\n",
       "    </tr>\n",
       "    <tr>\n",
       "      <th>1962</th>\n",
       "      <td>NaN</td>\n",
       "      <td>100.0</td>\n",
       "      <td>550.0</td>\n",
       "    </tr>\n",
       "    <tr>\n",
       "      <th>1963</th>\n",
       "      <td>NaN</td>\n",
       "      <td>110.0</td>\n",
       "      <td>580.0</td>\n",
       "    </tr>\n",
       "    <tr>\n",
       "      <th>1964</th>\n",
       "      <td>NaN</td>\n",
       "      <td>110.0</td>\n",
       "      <td>620.0</td>\n",
       "    </tr>\n",
       "    <tr>\n",
       "      <th>...</th>\n",
       "      <td>...</td>\n",
       "      <td>...</td>\n",
       "      <td>...</td>\n",
       "    </tr>\n",
       "    <tr>\n",
       "      <th>2017</th>\n",
       "      <td>2870.0</td>\n",
       "      <td>1550.0</td>\n",
       "      <td>5950.0</td>\n",
       "    </tr>\n",
       "    <tr>\n",
       "      <th>2018</th>\n",
       "      <td>2650.0</td>\n",
       "      <td>1730.0</td>\n",
       "      <td>6390.0</td>\n",
       "    </tr>\n",
       "    <tr>\n",
       "      <th>2019</th>\n",
       "      <td>2550.0</td>\n",
       "      <td>1890.0</td>\n",
       "      <td>6730.0</td>\n",
       "    </tr>\n",
       "    <tr>\n",
       "      <th>2020</th>\n",
       "      <td>2860.0</td>\n",
       "      <td>1900.0</td>\n",
       "      <td>6090.0</td>\n",
       "    </tr>\n",
       "    <tr>\n",
       "      <th>2021</th>\n",
       "      <td>3350.0</td>\n",
       "      <td>2080.0</td>\n",
       "      <td>6530.0</td>\n",
       "    </tr>\n",
       "  </tbody>\n",
       "</table>\n",
       "<p>62 rows × 3 columns</p>\n",
       "</div>"
      ],
      "text/plain": [
       "          GNI per Capita                     \n",
       "country Egypt, Arab Rep.   Kenya South Africa\n",
       "date                                         \n",
       "1960                 NaN     NaN          NaN\n",
       "1961                 NaN     NaN          NaN\n",
       "1962                 NaN   100.0        550.0\n",
       "1963                 NaN   110.0        580.0\n",
       "1964                 NaN   110.0        620.0\n",
       "...                  ...     ...          ...\n",
       "2017              2870.0  1550.0       5950.0\n",
       "2018              2650.0  1730.0       6390.0\n",
       "2019              2550.0  1890.0       6730.0\n",
       "2020              2860.0  1900.0       6090.0\n",
       "2021              3350.0  2080.0       6530.0\n",
       "\n",
       "[62 rows x 3 columns]"
      ]
     },
     "execution_count": 41,
     "metadata": {},
     "output_type": "execute_result"
    }
   ],
   "source": [
    "dfunstacked = df.unstack(level=0)\n",
    "dfunstacked"
   ]
  },
  {
   "attachments": {},
   "cell_type": "markdown",
   "metadata": {},
   "source": [
    "a simple matplotlib plot with legend, labels and a title"
   ]
  },
  {
   "attachments": {},
   "cell_type": "markdown",
   "metadata": {},
   "source": [
    "The Atlas method is a technique used to compare the economic output, or gross domestic product (GDP), of different countries. It was developed by the World Bank in the 1990s as a way to compare the living standards of people in different countries.\n",
    "\n",
    "The Atlas method involves converting the GDP of different countries into a common currency, usually the US dollar, using a process called purchasing power parity (PPP). PPP is a method of comparing the value of goods and services between countries, accounting for differences in the cost of living and inflation.\n",
    "\n",
    "The Atlas method is updated periodically to reflect changes in the cost of living and inflation in different countries. It is widely used by international organizations, such as the World Bank and the United Nations, to compare the economic output of different countries and to track global economic trends."
   ]
  },
  {
   "cell_type": "code",
   "execution_count": 42,
   "metadata": {},
   "outputs": [
    {
     "data": {
      "image/png": "[encoded data removed]",
      "text/plain": [
       "<Figure size 640x480 with 1 Axes>"
      ]
     },
     "metadata": {},
     "output_type": "display_data"
    }
   ],
   "source": [
    "dfunstacked.plot();\n",
    "plt.legend(loc='best');\n",
    "plt.title(\"GNI Per Capita ($USD, Atlas Method)\");\n",
    "plt.xlabel('Date'); plt.ylabel('GNI Per Capita ($USD, Atlas Method)');"
   ]
  }
 ],
 "metadata": {
  "kernelspec": {
   "display_name": "base",
   "language": "python",
   "name": "python3"
  },
  "language_info": {
   "codemirror_mode": {
    "name": "ipython",
    "version": 3
   },
   "file_extension": ".py",
   "mimetype": "text/x-python",
   "name": "python",
   "nbconvert_exporter": "python",
   "pygments_lexer": "ipython3",
   "version": "3.9.13"
  },
  "orig_nbformat": 4,
  "vscode": {
   "interpreter": {
    "hash": "a6932bc458483f3a29ec9950cf6424a2de735a02e9ad154ae63ded39f0fad700"
   }
  }
 },
 "nbformat": 4,
 "nbformat_minor": 2
}
